{
  "nbformat": 4,
  "nbformat_minor": 0,
  "metadata": {
    "kernelspec": {
      "display_name": "Python 3",
      "language": "python",
      "name": "python3"
    },
    "language_info": {
      "codemirror_mode": {
        "name": "ipython",
        "version": 3
      },
      "file_extension": ".py",
      "mimetype": "text/x-python",
      "name": "python",
      "nbconvert_exporter": "python",
      "pygments_lexer": "ipython3",
      "version": "3.6.3"
    },
    "colab": {
      "name": "TP2.ipynb",
      "provenance": [],
      "collapsed_sections": []
    }
  },
  "cells": [
    {
      "cell_type": "markdown",
      "metadata": {
        "id": "7rV1967XDgB0",
        "colab_type": "text"
      },
      "source": [
        "**You may need to install [OpenCV](https://pypi.python.org/pypi/opencv-python) and [scikit-video](http://www.scikit-video.org/stable/).**"
      ]
    },
    {
      "cell_type": "code",
      "metadata": {
        "id": "EoErASgcDgB6",
        "colab_type": "code",
        "colab": {
          "base_uri": "https://localhost:8080/",
          "height": 85
        },
        "outputId": "ee731df1-96e5-4e38-ab42-3a1a276b8086"
      },
      "source": [
        "!pip install scikit-video \n",
        "\n",
        "import keras\n",
        "import numpy as np\n",
        "import io\n",
        "import base64\n",
        "from IPython.display import HTML\n",
        "import skvideo.io\n",
        "import cv2\n",
        "import json\n",
        "\n",
        "from keras.models import Sequential,model_from_json\n",
        "from keras.layers.core import Dense\n",
        "from keras.optimizers import sgd\n",
        "from keras.layers import Conv2D, MaxPooling2D, Activation, AveragePooling2D,Reshape,BatchNormalization, Flatten, Dropout"
      ],
      "execution_count": 31,
      "outputs": [
        {
          "output_type": "stream",
          "text": [
            "Requirement already satisfied: scikit-video in /usr/local/lib/python3.6/dist-packages (1.1.11)\n",
            "Requirement already satisfied: scipy in /usr/local/lib/python3.6/dist-packages (from scikit-video) (1.4.1)\n",
            "Requirement already satisfied: pillow in /usr/local/lib/python3.6/dist-packages (from scikit-video) (6.2.2)\n",
            "Requirement already satisfied: numpy in /usr/local/lib/python3.6/dist-packages (from scikit-video) (1.17.5)\n"
          ],
          "name": "stdout"
        }
      ]
    },
    {
      "cell_type": "markdown",
      "metadata": {
        "id": "LMOIUHm9DgCJ",
        "colab_type": "text"
      },
      "source": [
        "# MiniProject on Deep Reinforcement Learning"
      ]
    },
    {
      "cell_type": "markdown",
      "metadata": {
        "id": "qsCQWN5SDgCM",
        "colab_type": "text"
      },
      "source": [
        "__Notations__: $E_p$ is the expectation under probability $p$. Please justify each of your answer and widely comment your code."
      ]
    },
    {
      "cell_type": "markdown",
      "metadata": {
        "id": "DiK-JZ4VDgCP",
        "colab_type": "text"
      },
      "source": [
        "# Context"
      ]
    },
    {
      "cell_type": "markdown",
      "metadata": {
        "id": "CiE-wO0lDgCR",
        "colab_type": "text"
      },
      "source": [
        "In a reinforcement learning algorithm, we modelize each step $t$ as an action $a_t$ obtained from a state $s_t$, i.e. $\\{(a_{t},s_{t})_{t\\leq T}\\}$ having the Markov property. We consider a discount factor $\\gamma \\in [0,1]$ that ensures convergence. The goal is to find among all the policies $\\pi$, one that maximizes the expected reward:\n",
        "\n",
        "\\begin{equation*}\n",
        "R(\\pi)=\\sum_{t\\leq T}E_{p^{\\pi}}[\\gamma^t r(s_{t},a_{t})] \\> ,\n",
        "\\end{equation*}\n",
        "\n",
        "where: \n",
        "\\begin{equation*}p^{\\pi}(a_{0},a_{1},s_{1},...,a_{T},s_{T})=p(a_{0})\\prod_{t=1}^{T}\\pi(a_{t}|s_{t})p(s_{t+1}|s_{t},a_{t}) \\> .\n",
        "\\end{equation*}\n",
        "\n",
        "We note the $Q$-function:\n",
        "\n",
        "\\begin{equation*}Q^\\pi(s,a)=E_{p^{\\pi}}[\\sum_{t\\leq T}\\gamma^{t}r(s_{t},a_{t})|s_{0}=s,a_{0}=a] \\> .\n",
        "\\end{equation*}\n",
        "\n",
        "Thus, the optimal Q function is:\n",
        "\\begin{equation*}\n",
        "Q^*(s,a)=\\max_{\\pi}Q^\\pi(s,a) \\> .\n",
        "\\end{equation*}\n",
        "\n",
        "In this project, we will apply the deep reinforcement learning techniques to a simple game: an agent will have to learn from scratch a policy that will permit it maximizing a reward."
      ]
    },
    {
      "cell_type": "markdown",
      "metadata": {
        "id": "NkwBRia7DgCU",
        "colab_type": "text"
      },
      "source": [
        "## The environment, the agent and the game"
      ]
    },
    {
      "cell_type": "markdown",
      "metadata": {
        "id": "Pt-b9Bn8DgCW",
        "colab_type": "text"
      },
      "source": [
        "### The environment"
      ]
    },
    {
      "cell_type": "markdown",
      "metadata": {
        "id": "YQQLOqLzDgCY",
        "colab_type": "text"
      },
      "source": [
        "```Environment``` is an abstract class that represents the states, rewards, and actions to obtain the new state."
      ]
    },
    {
      "cell_type": "code",
      "metadata": {
        "id": "p2UaJEmLDgCb",
        "colab_type": "code",
        "colab": {}
      },
      "source": [
        "class Environment(object):\n",
        "    def __init__(self):\n",
        "        pass\n",
        "\n",
        "    def act(self, act):\n",
        "        \"\"\"\n",
        "        One can act on the environment and obtain its reaction:\n",
        "        - the new state\n",
        "        - the reward of the new state\n",
        "        - should we continue the game?\n",
        "\n",
        "        :return: state, reward, game_over\n",
        "        \"\"\"\n",
        "        pass\n",
        "\n",
        "\n",
        "    def reset(self):\n",
        "        \"\"\"\n",
        "        Reinitialize the environment to a random state and returns\n",
        "        the original state\n",
        "\n",
        "        :return: state\n",
        "        \"\"\"\n",
        "        pass\n",
        "    \n",
        "    def draw(self):\n",
        "        \"\"\"\n",
        "        Visualize in the console or graphically the current state\n",
        "        \"\"\"\n",
        "        pass"
      ],
      "execution_count": 0,
      "outputs": []
    },
    {
      "cell_type": "markdown",
      "metadata": {
        "id": "CKC3Jxk5DgCi",
        "colab_type": "text"
      },
      "source": [
        "The method ```act``` allows to act on the environment at a given state $s_t$ (stored internally), via action $a_t$. The method will return the new state $s_{t+1}$, the reward $r(s_{t},a_{t})$ and determines if $t\\leq T$ (*game_over*).\n",
        "\n",
        "The method ```reset``` simply reinitializes the environment to a random state $s_0$.\n",
        "\n",
        "The method ```draw``` displays the current state $s_t$ (this is useful to check the behavior of the Agent).\n",
        "\n",
        "We modelize $s_t$ as a tensor, while $a_t$ is an integer."
      ]
    },
    {
      "cell_type": "markdown",
      "metadata": {
        "id": "ndk9rm7eDgCl",
        "colab_type": "text"
      },
      "source": [
        "### The Agent"
      ]
    },
    {
      "cell_type": "markdown",
      "metadata": {
        "id": "siRM6C-ADgCo",
        "colab_type": "text"
      },
      "source": [
        "The goal of the ```Agent``` is to interact with the ```Environment``` by proposing actions $a_t$ obtained from a given state $s_t$ to attempt to maximize its __reward__ $r(s_t,a_t)$. We propose the following abstract class:"
      ]
    },
    {
      "cell_type": "code",
      "metadata": {
        "id": "vK2WSxtaDgCr",
        "colab_type": "code",
        "colab": {}
      },
      "source": [
        "class Agent(object):\n",
        "    def __init__(self, epsilon=0.1, n_action=4):\n",
        "        self.epsilon = epsilon\n",
        "        self.n_action = n_action\n",
        "    \n",
        "    def set_epsilon(self,e):\n",
        "        self.epsilon = e\n",
        "\n",
        "    def act(self,s,train=True):\n",
        "        \"\"\" This function should return the next action to do:\n",
        "        an integer between 0 and 4 (not included) with a random exploration of epsilon\"\"\"\n",
        "        if train:\n",
        "            if np.random.rand() <= self.epsilon:\n",
        "                a = np.random.randint(0, self.n_action, size=1)[0]\n",
        "            else:\n",
        "                a = self.learned_act(s)\n",
        "        else: # in some cases, this can improve the performance.. remove it if poor performances\n",
        "            a = self.learned_act(s)\n",
        "\n",
        "        return a\n",
        "\n",
        "    def learned_act(self,s):\n",
        "        \"\"\" Act via the policy of the agent, from a given state s\n",
        "        it proposes an action a\"\"\"\n",
        "        pass\n",
        "\n",
        "    def reinforce(self, s, n_s, a, r, game_over_):\n",
        "        \"\"\" This function is the core of the learning algorithm. \n",
        "        It takes as an input the current state s_, the next state n_s_\n",
        "        the action a_ used to move from s_ to n_s_ and the reward r_.\n",
        "        \n",
        "        Its goal is to learn a policy.\n",
        "        \"\"\"\n",
        "        pass\n",
        "\n",
        "    def save(self):\n",
        "        \"\"\" This function returns basic stats if applicable: the\n",
        "        loss and/or the model\"\"\"\n",
        "        pass\n",
        "\n",
        "    def load(self):\n",
        "        \"\"\" This function allows to restore a model\"\"\"\n",
        "        pass"
      ],
      "execution_count": 0,
      "outputs": []
    },
    {
      "cell_type": "markdown",
      "metadata": {
        "id": "ujzBFgIEDgDM",
        "colab_type": "text"
      },
      "source": [
        "***\n",
        "__Question 1__:\n",
        "Explain the function act. Why is ```epsilon``` essential?"
      ]
    },
    {
      "cell_type": "markdown",
      "metadata": {
        "id": "uIOP3xoHDgDa",
        "colab_type": "text"
      },
      "source": [
        "The **act** function returns the next action that the system shoud take, considering the state we're in and the reward. The system thus has two choices: either take the best action right away (greedy choice) which would give the best possible reward for the current step but could lead us to a local minima where we would stay stuck, or take a random action (exploratory choice) to keep on exploring our environnement in order to make better choices in the future.\n",
        "\n",
        "Epsilon represents the trade-off between these two strategies: at each step, we make the greedy decision with a probability of epsilon (<1). That's an epsilon-greedy strategy.\n",
        "\n",
        "\n"
      ]
    },
    {
      "cell_type": "markdown",
      "metadata": {
        "id": "F_p5VZe5DgDd",
        "colab_type": "text"
      },
      "source": [
        "***\n",
        "### The Game"
      ]
    },
    {
      "cell_type": "markdown",
      "metadata": {
        "id": "8CBfyCwYDgDl",
        "colab_type": "text"
      },
      "source": [
        "The ```Agent``` and the ```Environment``` work in an interlaced way as in the following (take some time to understand this code as it is the core of the project)\n",
        "\n",
        "```python\n",
        "\n",
        "epoch = 300\n",
        "env = Environment()\n",
        "agent = Agent()\n",
        "\n",
        "\n",
        "# Number of won games\n",
        "score = 0\n",
        "loss = 0\n",
        "\n",
        "\n",
        "for e in range(epoch):\n",
        "    # At each epoch, we restart to a fresh game and get the initial state\n",
        "    state = env.reset()\n",
        "    # This assumes that the games will end\n",
        "    game_over = False\n",
        "\n",
        "    win = 0\n",
        "    lose = 0\n",
        "    \n",
        "    while not game_over:\n",
        "        # The agent performs an action\n",
        "        action = agent.act(state)\n",
        "\n",
        "        # Apply an action to the environment, get the next state, the reward\n",
        "        # and if the games end\n",
        "        prev_state = state\n",
        "        state, reward, game_over = env.act(action)\n",
        "\n",
        "        # Update the counters\n",
        "        if reward > 0:\n",
        "            win = win + reward\n",
        "        if reward < 0:\n",
        "            lose = lose -reward\n",
        "\n",
        "        # Apply the reinforcement strategy\n",
        "        loss = agent.reinforce(prev_state, state,  action, reward, game_over)\n",
        "\n",
        "    # Save as a mp4\n",
        "    if e % 10 == 0:\n",
        "        env.draw(e)\n",
        "\n",
        "    # Update stats\n",
        "    score += win-lose\n",
        "\n",
        "    print(\"Epoch {:03d}/{:03d} | Loss {:.4f} | Win/lose count {}/{} ({})\"\n",
        "          .format(e, epoch, loss, win, lose, win-lose))\n",
        "    agent.save()\n",
        "```"
      ]
    },
    {
      "cell_type": "markdown",
      "metadata": {
        "id": "951nFO4qDgDy",
        "colab_type": "text"
      },
      "source": [
        "# The game, *eat cheese*"
      ]
    },
    {
      "cell_type": "markdown",
      "metadata": {
        "id": "UnRDdwaLDgD2",
        "colab_type": "text"
      },
      "source": [
        "A rat runs on an island and tries to eat as much as possible. The island is subdivided into $N\\times N$ cells, in which there are cheese (+0.5) and poisonous cells (-1). The rat has a visibility of 2 cells (thus it can see $5^2$ cells). The rat is given a time $T$ to accumulate as much food as possible. It can perform 4 actions: going up, down, left, right. \n",
        "\n",
        "The goal is to code an agent to solve this task that will learn by trial and error. We propose the following environment:"
      ]
    },
    {
      "cell_type": "code",
      "metadata": {
        "id": "iCi6X11VDgD6",
        "colab_type": "code",
        "colab": {}
      },
      "source": [
        "class Environment(object):\n",
        "    def __init__(self, grid_size=10, max_time=500, temperature=0.1):\n",
        "        grid_size = grid_size+4\n",
        "        self.grid_size = grid_size\n",
        "        self.max_time = max_time\n",
        "        self.temperature = temperature\n",
        "\n",
        "        #board on which one plays\n",
        "        self.board = np.zeros((grid_size,grid_size))\n",
        "        self.position = np.zeros((grid_size,grid_size))\n",
        "\n",
        "        # coordinate of the cat\n",
        "        self.x = 0\n",
        "        self.y = 1\n",
        "\n",
        "        # self time\n",
        "        self.t = 0\n",
        "\n",
        "        self.scale=16\n",
        "\n",
        "        self.to_draw = np.zeros((max_time+2, grid_size*self.scale, grid_size*self.scale, 3))\n",
        "\n",
        "\n",
        "    def draw(self,e):\n",
        "        skvideo.io.vwrite(str(e) + '.mp4', self.to_draw)\n",
        "\n",
        "    def get_frame(self,t):\n",
        "        b = np.zeros((self.grid_size,self.grid_size,3))+128\n",
        "        b[self.board>0,0] = 256\n",
        "        b[self.board < 0, 2] = 256\n",
        "        b[self.x,self.y,:]=256\n",
        "        b[-2:,:,:]=0\n",
        "        b[:,-2:,:]=0\n",
        "        b[:2,:,:]=0\n",
        "        b[:,:2,:]=0\n",
        "        \n",
        "        b =  cv2.resize(b, None, fx=self.scale, fy=self.scale, interpolation=cv2.INTER_NEAREST)\n",
        "\n",
        "        self.to_draw[t,:,:,:]=b\n",
        "\n",
        "\n",
        "    def act(self, action):\n",
        "        \"\"\"This function returns the new state, reward and decides if the\n",
        "        game ends.\"\"\"\n",
        "\n",
        "        self.get_frame(int(self.t))\n",
        "\n",
        "        self.position = np.zeros((self.grid_size, self.grid_size))\n",
        "\n",
        "        self.position[0:2,:]= -1\n",
        "        self.position[:,0:2] = -1\n",
        "        self.position[-2:, :] = -1\n",
        "        self.position[-2:, :] = -1\n",
        "\n",
        "        self.position[self.x, self.y] = 1\n",
        "        if action == 0:\n",
        "            if self.x == self.grid_size-3:\n",
        "                self.x = self.x-1\n",
        "            else:\n",
        "                self.x = self.x + 1\n",
        "        elif action == 1:\n",
        "            if self.x == 2:\n",
        "                self.x = self.x+1\n",
        "            else:\n",
        "                self.x = self.x-1\n",
        "        elif action == 2:\n",
        "            if self.y == self.grid_size - 3:\n",
        "                self.y = self.y - 1\n",
        "            else:\n",
        "                self.y = self.y + 1\n",
        "        elif action == 3:\n",
        "            if self.y == 2:\n",
        "                self.y = self.y + 1\n",
        "            else:\n",
        "                self.y = self.y - 1\n",
        "        else:\n",
        "            RuntimeError('Error: action not recognized')\n",
        "\n",
        "        self.t = self.t + 1\n",
        "        reward = self.board[self.x, self.y]\n",
        "        self.board[self.x, self.y] = 0\n",
        "        game_over = self.t > self.max_time\n",
        "        state = np.concatenate((self.board.reshape(self.grid_size, self.grid_size,1),\n",
        "                        self.position.reshape(self.grid_size, self.grid_size,1)),axis=2)\n",
        "        state = state[self.x-2:self.x+3,self.y-2:self.y+3,:]\n",
        "\n",
        "        return state, reward, game_over\n",
        "\n",
        "    def reset(self):\n",
        "        \"\"\"This function resets the game and returns the initial state\"\"\"\n",
        "\n",
        "        self.x = np.random.randint(3, self.grid_size-3, size=1)[0]\n",
        "        self.y = np.random.randint(3, self.grid_size-3, size=1)[0]\n",
        "\n",
        "\n",
        "        bonus = 0.5*np.random.binomial(1,self.temperature,size=self.grid_size**2)\n",
        "        bonus = bonus.reshape(self.grid_size,self.grid_size)\n",
        "\n",
        "        malus = -1.0*np.random.binomial(1,self.temperature,size=self.grid_size**2)\n",
        "        malus = malus.reshape(self.grid_size, self.grid_size)\n",
        "\n",
        "        self.to_draw = np.zeros((self.max_time+2, self.grid_size*self.scale, self.grid_size*self.scale, 3))\n",
        "\n",
        "\n",
        "        malus[bonus>0]=0\n",
        "\n",
        "        self.board = bonus + malus\n",
        "\n",
        "        self.position = np.zeros((self.grid_size, self.grid_size))\n",
        "        self.position[0:2,:]= -1\n",
        "        self.position[:,0:2] = -1\n",
        "        self.position[-2:, :] = -1\n",
        "        self.position[-2:, :] = -1\n",
        "        self.board[self.x,self.y] = 0\n",
        "        self.t = 0\n",
        "\n",
        "        state = np.concatenate((\n",
        "                               self.board.reshape(self.grid_size, self.grid_size,1),\n",
        "                        self.position.reshape(self.grid_size, self.grid_size,1)),axis=2)\n",
        "\n",
        "        state = state[self.x - 2:self.x + 3, self.y - 2:self.y + 3, :]\n",
        "        return state"
      ],
      "execution_count": 0,
      "outputs": []
    },
    {
      "cell_type": "markdown",
      "metadata": {
        "id": "DWIRqqhqDgEs",
        "colab_type": "text"
      },
      "source": [
        "The following elements are important because they correspond to the hyper parameters for this project:"
      ]
    },
    {
      "cell_type": "code",
      "metadata": {
        "id": "nhVOzqilDgEw",
        "colab_type": "code",
        "colab": {}
      },
      "source": [
        "# parameters\n",
        "size = 13\n",
        "T=200\n",
        "temperature=0.3\n",
        "epochs_train=10 # set small when debugging\n",
        "epochs_test=10 # set small when debugging\n",
        "\n",
        "# display videos\n",
        "def display_videos(name):\n",
        "    video = io.open(name, 'r+b').read()\n",
        "    encoded = base64.b64encode(video)\n",
        "    return '''<video alt=\"test\" controls>\n",
        "                <source src=\"data:video/mp4;base64,{0}\" type=\"video/mp4\" />\n",
        "             </video>'''.format(encoded.decode('ascii'))"
      ],
      "execution_count": 0,
      "outputs": []
    },
    {
      "cell_type": "markdown",
      "metadata": {
        "id": "BwJQzZ09DgE7",
        "colab_type": "text"
      },
      "source": [
        "__Question 2__ Explain the use of the arrays ```position``` and ```board```."
      ]
    },
    {
      "cell_type": "markdown",
      "metadata": {
        "id": "XUjvOhr9DgFC",
        "colab_type": "text"
      },
      "source": [
        "The *position* 2D-array corresponds to the full island (extended of 2 cells on the border since the rat can see two cells forward). The elements of the array represent the current position of the agent (with a 1), the accessibles cells (0) and the borders of the island (-1).\n",
        "\n",
        "The *board* 2D-array also represents the island with the value of the cells (the value of a cell is 0.5 if it contains cheese, -1 if it's the cell on which the rat stands, and 0 if it's just an ordinary cell).  "
      ]
    },
    {
      "cell_type": "markdown",
      "metadata": {
        "id": "Yxy0bN3MDgFF",
        "colab_type": "text"
      },
      "source": [
        "## Random Agent"
      ]
    },
    {
      "cell_type": "markdown",
      "metadata": {
        "id": "LSVYVNdWDgFH",
        "colab_type": "text"
      },
      "source": [
        "***\n",
        "__Question 3__ Implement a random Agent (only ```learned_act``` needs to be implemented):"
      ]
    },
    {
      "cell_type": "code",
      "metadata": {
        "id": "gDDcQAAPDgFK",
        "colab_type": "code",
        "colab": {}
      },
      "source": [
        "class RandomAgent(Agent):\n",
        "    def __init__(self):\n",
        "        super(RandomAgent, self).__init__()\n",
        "        pass\n",
        "\n",
        "    def learned_act(self, s):\n",
        "        # We just pick a random action without even looking at the state\n",
        "        return np.random.randint(0, self.n_action)"
      ],
      "execution_count": 0,
      "outputs": []
    },
    {
      "cell_type": "markdown",
      "metadata": {
        "id": "ITtdCjvRDgFU",
        "colab_type": "text"
      },
      "source": [
        "***\n",
        "***\n",
        "__Question 4__ Visualize the game moves. You need to fill in the following function for the evaluation:"
      ]
    },
    {
      "cell_type": "code",
      "metadata": {
        "id": "-RkAg1FLDgFX",
        "colab_type": "code",
        "colab": {}
      },
      "source": [
        "def test(agent,env,epochs,prefix=''):\n",
        "    # Number of won games\n",
        "    score = 0\n",
        "        \n",
        "    for e in range(epochs):\n",
        "        \n",
        "        ### We start a new game for each epoch => initialize the state and reward\n",
        "        state = env.reset()\n",
        "        win = 0\n",
        "        lose = 0\n",
        "\n",
        "        ### Start the actual game\n",
        "        over = False\n",
        "\n",
        "        while over == False:\n",
        "            # At each step we take an action \n",
        "            action = agent.act(state)\n",
        "            # We then observe the new state, reward, and check wether we ran out of time (i.e. the game is over)\n",
        "            state, reward, over = env.act(action)\n",
        "            if reward > 0:\n",
        "                  win = win + reward\n",
        "            if reward < 0:\n",
        "                  lose = lose - reward\n",
        "            # We get the new fram to draw \n",
        "            env.get_frame(e)\n",
        "        \n",
        "        # Save as a mp4\n",
        "        env.draw(prefix+str(e))\n",
        "\n",
        "        # Update stats\n",
        "        score = score + win-lose\n",
        "\n",
        "        print(\"Win/lose count {}/{}. Average score ({})\"\n",
        "              .format(win, lose, score/(1+e)))\n",
        "    print('Final score: '+str(score/epochs))"
      ],
      "execution_count": 0,
      "outputs": []
    },
    {
      "cell_type": "code",
      "metadata": {
        "id": "jejuXEh0DgFf",
        "colab_type": "code",
        "colab": {
          "base_uri": "https://localhost:8080/",
          "height": 358
        },
        "outputId": "a0d1e77c-1d3a-4b36-dd19-71ea0db3fec6"
      },
      "source": [
        "# Initialize the game\n",
        "env = Environment(grid_size=size, max_time=T,temperature=temperature)\n",
        "\n",
        "# Initialize the agent!\n",
        "agent = RandomAgent()\n",
        "\n",
        "test(agent,env,epochs_test,prefix='random')\n",
        "HTML(display_videos('random0.mp4'))"
      ],
      "execution_count": 52,
      "outputs": [
        {
          "output_type": "stream",
          "text": [
            "Win/lose count 7.5/8.0. Average score (-0.5)\n",
            "Win/lose count 10.5/9.0. Average score (0.5)\n",
            "Win/lose count 10.0/12.0. Average score (-0.3333333333333333)\n",
            "Win/lose count 7.0/13.0. Average score (-1.75)\n",
            "Win/lose count 11.5/12.0. Average score (-1.5)\n",
            "Win/lose count 12.5/12.0. Average score (-1.1666666666666667)\n",
            "Win/lose count 9.5/17.0. Average score (-2.0714285714285716)\n",
            "Win/lose count 9.0/13.0. Average score (-2.3125)\n",
            "Win/lose count 12.0/10.0. Average score (-1.8333333333333333)\n",
            "Win/lose count 8.0/13.0. Average score (-2.15)\n",
            "Final score: -2.15\n"
          ],
          "name": "stdout"
        },
        {
          "output_type": "execute_result",
          "data": {
            "text/html": [
              "<video alt=\"test\" controls>\n",
              "                <source src=\"data:video/mp4;base64,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\" type=\"video/mp4\" />\n",
              "             </video>"
            ],
            "text/plain": [
              "<IPython.core.display.HTML object>"
            ]
          },
          "metadata": {
            "tags": []
          },
          "execution_count": 52
        }
      ]
    },
    {
      "cell_type": "markdown",
      "metadata": {
        "id": "IVnybRbUDgFt",
        "colab_type": "text"
      },
      "source": [
        "***\n",
        "## DQN \n",
        "***"
      ]
    },
    {
      "cell_type": "markdown",
      "metadata": {
        "id": "GAbvPmdrDgFv",
        "colab_type": "text"
      },
      "source": [
        "Let us assume here that $T=\\infty$.\n",
        "\n",
        "***\n",
        "__Question 5__ Let $\\pi$ be a policy, show that:\n",
        "\n",
        "\\begin{equation*}\n",
        "Q^{\\pi}(s,a)=E_{(s',a')\\sim p(.|s,a)}[r(s,a)+\\gamma Q^{\\pi}(s',a')]\n",
        "\\end{equation*}\n",
        "\n",
        "Then, show that for the optimal policy $\\pi^*$ (we assume its existence), the following holds: \n",
        "\n",
        "\\begin{equation*}\n",
        "Q^{*}(s,a)=E_{s'\\sim \\pi^*(.|s,a)}[r(s,a)+\\gamma\\max_{a'}Q^{*}(s',a')].\n",
        "\\end{equation*}\n",
        "Finally, deduce that a plausible objective is:\n",
        "\n",
        "\\begin{equation*}\n",
        "\\mathcal{L}(\\theta)=E_{s' \\sim \\pi^*(.|s,a)}\\Vert r+\\gamma\\max\\max_{a'}Q(s',a',\\theta)-Q(s,a,\\theta)\\Vert^{2}.\n",
        "\\end{equation*}\n",
        "\n",
        "\n"
      ]
    },
    {
      "cell_type": "markdown",
      "metadata": {
        "id": "rTbcmwK3DgFx",
        "colab_type": "text"
      },
      "source": [
        "**1)** From definition we have:\n",
        "\n",
        " $Q^\\pi(s,a) = E_{p^\\pi}[\\sum_{t = 0}^{T} \\gamma^t r(s_t, a_t) | s_0 = s, a_0 = a]$\n",
        "\n",
        "We can separate the first term from the rest of the sum:\n",
        "$Q^\\pi(s,a) =  E_{p^\\pi}[r(s, a) + \\sum_{t = 1}^{T} \\gamma^t r(s_t, a_t) | s_0 = s, a_0 = a] \\\\\n",
        "Q^\\pi(s,a) = r(s,a) + \\gamma E_{p^\\pi}[\\sum_{t = 1}^{T} \\gamma^{t-1} r(s_t, a_t) | s_0 = s, a_0 = a] \\\\\n",
        "Q^\\pi(s,a) = r(s,a) + \\gamma \\sum_{s'}p(s_1 = s', s_0 = s)E_{p^\\pi}[\\sum_{t = 1}^{T} \\gamma^{t-1} r(s_t, a_t) | s_1 = s', a_1 = a']\\\\\n",
        "Q^\\pi(s,a) = r(s,a) + \\gamma \\sum_{s'}p(s_1 = s', s_0 = s)Q^\\pi(s', a')$\\\\\n",
        "\n",
        "We thus have,\n",
        "\n",
        "$Q^\\pi(s,a) = E_{(s', a') \\sim p(.|s, a)}[ r(s,a) + \\gamma Q^\\pi(s', a')]\\\\ $\n",
        "\n",
        "\n",
        "**2)** By definition of $Q^{*}$ and $Q$ we have,\n",
        "\n",
        "$Q^{*}(s,a) = \\max_\\pi Q^{\\pi}(s, a)$\n",
        "\n",
        "From the previous question we get,\n",
        "$Q^{*}(s,a) = \\max_\\pi[r(s,a) + \\gamma\\sum_{s'} p(s'|s,a) Q^\\pi (s', \\pi (s'))$ (since $a' = \\pi(s')\\\\$)\n",
        "\n",
        "We take out of the sum everything that doesn't depend on $\\pi$:\n",
        "\n",
        "$Q^{*}(s,a) = r(s,a) + \\gamma\\sum_{s'} p(s'|s,a)\\max_\\pi Q^\\pi (s', \\pi (s'))$\n",
        "\n",
        "$Q^{*}(s,a) \\leq r(s,a) + \\gamma\\sum_{s'} p(s'|s,a)\\max_{\\pi, a'} Q^\\pi (s', a') = A $ (since we take the best possible action a')\n",
        "\n",
        "$ A =  r(s,a) + \\gamma\\sum_{s'} p(s'|s,a)\\max_{a'} Q^{*}(s', a')$\n",
        "\n",
        "\n",
        "$ A = E_{s' \\sim \\pi^{*}}(.|s,a) [r(s,a) + \\gamma \\max_{a'} Q^{*}(s', a')] $\n",
        "\n",
        "However, the définition of $Q^{*}$ also gives us,\n",
        "\n",
        "$A = \\sum_{s'} p(s'|s,a)\\max_{a'} Q^{*} (s', a')$\n",
        "\n",
        "$A \\leq \\max_\\pi \\sum_{s'} p(s'|s,a)\\max_{a'} Q^{*} (s', a')$\n",
        "\n",
        "Finally,\n",
        "\n",
        "$Q^{*}(s,a) = E_{s' \\sim \\pi^{*}(.|s,a)}[r(s,a) + \\gamma \\max_{a'} Q^{*}(s',a')]$\n",
        "\n",
        "**3)** That loss function corresponds to the mean squared error between $Q^{*}$ and $Q$. It would thus allow us to estimate $Q^{*}$ and therefore the optimal policy.\n",
        "\n",
        "\n",
        "\n",
        "\n",
        "\n",
        "\n",
        "\n",
        "\n",
        "\n",
        "\n",
        "\n",
        "\n",
        "\n"
      ]
    },
    {
      "cell_type": "markdown",
      "metadata": {
        "id": "eSmVee-EDgFy",
        "colab_type": "text"
      },
      "source": [
        "***\n",
        "The DQN-learning algorithm relies on these derivations to train the parameters $\\theta$ of a Deep Neural Network:\n",
        "\n",
        "1. At the state $s_t$, select the action $a_t$ with best reward using $Q_t$ and store the results;\n",
        "\n",
        "2. Obtain the new state $s_{t+1}$ from the environment $p$;\n",
        "\n",
        "3. Store $(s_t,a_t,s_{t+1})$;\n",
        "\n",
        "4. Obtain $Q_{t+1}$ by minimizing  $\\mathcal{L}$ from a recovered batch from the previously stored results.\n",
        "\n",
        "***\n",
        "__Question 6__ Implement the class ```Memory``` that stores moves (in a replay buffer) via ```remember``` and provides a ```random_access``` to these. Specify a maximum memory size to avoid side effects. You can for example use a ```list()``` and set by default ```max_memory=100```."
      ]
    },
    {
      "cell_type": "code",
      "metadata": {
        "id": "0oEY6HUBDgF0",
        "colab_type": "code",
        "colab": {}
      },
      "source": [
        "class Memory(object):\n",
        "    def __init__(self, max_memory=100):\n",
        "        self.max_memory = max_memory\n",
        "        self.memory = list()\n",
        "\n",
        "    def remember(self, m):\n",
        "        # We use a FIFO system to maintain our memory pile shorter than max_memory\n",
        "        # Before adding a new element to our list, we check if we're already at the limit\n",
        "        if len(self.memory) == self.max_memory:\n",
        "          del self.memory[0]\n",
        "        # We add the new element m\n",
        "        self.memory.append(m)\n",
        "\n",
        "    def random_access(self):\n",
        "        idx = np.random.randint(0, len(self.memory))\n",
        "        return self.memory[idx]"
      ],
      "execution_count": 0,
      "outputs": []
    },
    {
      "cell_type": "markdown",
      "metadata": {
        "id": "bqZbkspUDgF-",
        "colab_type": "text"
      },
      "source": [
        "***\n",
        "The pipeline we will use for training is given below:"
      ]
    },
    {
      "cell_type": "code",
      "metadata": {
        "id": "krmMUD6xDgGA",
        "colab_type": "code",
        "colab": {}
      },
      "source": [
        "def train(agent,env,epoch,prefix=''):\n",
        "    # Number of won games\n",
        "    score = 0\n",
        "    loss = 0\n",
        "\n",
        "    for e in range(epoch):\n",
        "        # At each epoch, we restart to a fresh game and get the initial state\n",
        "        state = env.reset()\n",
        "        # This assumes that the games will terminate\n",
        "        game_over = False\n",
        "\n",
        "        win = 0\n",
        "        lose = 0\n",
        "\n",
        "        while not game_over:\n",
        "            # The agent performs an action\n",
        "            action = agent.act(state)\n",
        "\n",
        "            # Apply an action to the environment, get the next state, the reward\n",
        "            # and if the games end\n",
        "            prev_state = state\n",
        "            state, reward, game_over = env.act(action)\n",
        "\n",
        "            # Update the counters\n",
        "            if reward > 0:\n",
        "                win = win + reward\n",
        "            if reward < 0:\n",
        "                lose = lose -reward\n",
        "\n",
        "            # Apply the reinforcement strategy\n",
        "            loss = agent.reinforce(prev_state, state,  action, reward, game_over)\n",
        "\n",
        "        # Save as a mp4\n",
        "        if e % 10 == 0:\n",
        "            env.draw(prefix+str(e))\n",
        "\n",
        "        # Update stats\n",
        "        score += win-lose\n",
        "\n",
        "        print(\"Epoch {:03d}/{:03d} | Loss {:.4f} | Win/lose count {}/{} ({})\"\n",
        "              .format(e, epoch, loss, win, lose, win-lose))\n",
        "        agent.save(name_weights=prefix+'model.h5',name_model=prefix+'model.json')"
      ],
      "execution_count": 0,
      "outputs": []
    },
    {
      "cell_type": "markdown",
      "metadata": {
        "id": "pLHUY6W7DgGK",
        "colab_type": "text"
      },
      "source": [
        "***\n",
        "__Question 7__ Implement the DQN training algorithm using a cascade of fully connected layers. You can use different learning rate, batch size or memory size parameters. In particular, the loss might oscillate while the player will start to win the games. You have to find a good criterium."
      ]
    },
    {
      "cell_type": "code",
      "metadata": {
        "id": "LJ4JbeG5DgGM",
        "colab_type": "code",
        "colab": {}
      },
      "source": [
        "class DQN(Agent):\n",
        "    def __init__(self, grid_size,  epsilon = 0.1, memory_size=100, batch_size = 16,n_state=2):\n",
        "        super(DQN, self).__init__(epsilon = epsilon)\n",
        "\n",
        "        # Discount for Q learning\n",
        "        self.discount = 0.99\n",
        "        \n",
        "        self.grid_size = grid_size\n",
        "        \n",
        "        # number of state\n",
        "        self.n_state = n_state\n",
        "\n",
        "        # Memory\n",
        "        self.memory = Memory(memory_size)\n",
        "        \n",
        "        # Batch size when learning\n",
        "        self.batch_size = batch_size\n",
        "\n",
        "    def learned_act(self, s):\n",
        "        # To predict we use the full trajectory (the states) until now\n",
        "        return np.argmax(self.model.predict(np.array([s]))[0])\n",
        "\n",
        "    def reinforce(self, s_, n_s_, a_, r_, game_over_):\n",
        "        # Two steps: first memorize the states, second learn from the pool\n",
        "\n",
        "        self.memory.remember([s_, n_s_, a_, r_, game_over_])\n",
        "        \n",
        "        input_states = np.zeros((self.batch_size, 5,5,self.n_state))\n",
        "        target_q = np.zeros((self.batch_size, 4))\n",
        "        \n",
        "        for i in range(self.batch_size):\n",
        "            # We compute the input state using the memory\n",
        "            s_, n_s_, a_, r_, game_over_ = self.memory.random_access()\n",
        "            input_states[i] = s_\n",
        "\n",
        "            # First we initialize our Q-function\n",
        "            target_q[i] = self.model.predict(s_[np.newaxis, :, :, :])[0]\n",
        "            \n",
        "            # Then we update the Q-function\n",
        "            # If the game is over, we only get the reward (last state)\n",
        "            if game_over_:\n",
        "                target_q[i][a_] = r_\n",
        "            # Else we also add the discounted prediction \n",
        "            else:\n",
        "                n_q = max(self.model.predict(n_s_[np.newaxis, :, :, :])[0])\n",
        "                target_q[i][a_] = r_ + n_q * self.discount\n",
        "\n",
        "        # HINT: Clip the target to avoid exploiding gradients.. -- clipping is a bit tighter\n",
        "        target_q = np.clip(target_q, -3, 3)\n",
        "\n",
        "        l = self.model.train_on_batch(input_states, target_q)\n",
        "\n",
        "\n",
        "        return l\n",
        "\n",
        "    def save(self,name_weights='model.h5',name_model='model.json'):\n",
        "        self.model.save_weights(name_weights, overwrite=True)\n",
        "        with open(name_model, \"w\") as outfile:\n",
        "            json.dump(self.model.to_json(), outfile)\n",
        "            \n",
        "    def load(self,name_weights='model.h5',name_model='model.json'):\n",
        "        with open(name_model, \"r\") as jfile:\n",
        "            model = model_from_json(json.load(jfile))\n",
        "        model.load_weights(name_weights)\n",
        "        model.compile(\"sgd\", \"mse\")\n",
        "        self.model = model\n",
        "\n",
        "            \n",
        "class DQN_FC(DQN):\n",
        "    def __init__(self, *args, lr=0.1,**kwargs):\n",
        "        super(DQN_FC, self).__init__( *args,**kwargs)\n",
        "        \n",
        "        # NN Model\n",
        "        \n",
        "        model = Sequential()\n",
        "        model.add(Flatten(input_shape=(5,5,2)))\n",
        "        model.add(Dense(128))\n",
        "        model.add(Activation('relu'))\n",
        "        model.add(Dense(64))\n",
        "        model.add(Activation(\"relu\"))\n",
        "        model.add(Dense(4))\n",
        "        model.add(Activation('linear'))\n",
        "        \n",
        "        model.compile(sgd(lr=lr, decay=1e-4, momentum=0.0), \"mse\")\n",
        "        self.model = model\n",
        "        "
      ],
      "execution_count": 0,
      "outputs": []
    },
    {
      "cell_type": "code",
      "metadata": {
        "id": "lulHVTOeDgGb",
        "colab_type": "code",
        "colab": {
          "base_uri": "https://localhost:8080/",
          "height": 486
        },
        "outputId": "f89cdd9a-61c8-4cec-bf22-d0d9923e0a90"
      },
      "source": [
        "env = Environment(grid_size=size, max_time=T, temperature=0.3)\n",
        "agent = DQN_FC(size, lr=.1, epsilon = 0.1, memory_size=2000, batch_size = 64)\n",
        "train(agent, env, epochs_train, prefix='fc_train')\n",
        "HTML(display_videos('fc_train10.mp4'))"
      ],
      "execution_count": 56,
      "outputs": [
        {
          "output_type": "stream",
          "text": [
            "Epoch 000/010 | Loss 0.0249 | Win/lose count 5.5/5.0 (0.5)\n",
            "Epoch 001/010 | Loss 0.0045 | Win/lose count 4.5/3.0 (1.5)\n",
            "Epoch 002/010 | Loss 0.0036 | Win/lose count 4.5/4.0 (0.5)\n",
            "Epoch 003/010 | Loss 0.0182 | Win/lose count 3.5/0 (3.5)\n",
            "Epoch 004/010 | Loss 0.0316 | Win/lose count 7.5/5.0 (2.5)\n",
            "Epoch 005/010 | Loss 0.0039 | Win/lose count 4.5/10.0 (-5.5)\n",
            "Epoch 006/010 | Loss 0.0022 | Win/lose count 3.5/2.0 (1.5)\n",
            "Epoch 007/010 | Loss 0.0034 | Win/lose count 6.0/5.0 (1.0)\n",
            "Epoch 008/010 | Loss 0.0285 | Win/lose count 3.5/7.0 (-3.5)\n",
            "Epoch 009/010 | Loss 0.0039 | Win/lose count 4.0/6.0 (-2.0)\n"
          ],
          "name": "stdout"
        },
        {
          "output_type": "error",
          "ename": "FileNotFoundError",
          "evalue": "ignored",
          "traceback": [
            "\u001b[0;31m---------------------------------------------------------------------------\u001b[0m",
            "\u001b[0;31mFileNotFoundError\u001b[0m                         Traceback (most recent call last)",
            "\u001b[0;32m<ipython-input-56-5805ce50cb61>\u001b[0m in \u001b[0;36m<module>\u001b[0;34m()\u001b[0m\n\u001b[1;32m      2\u001b[0m \u001b[0magent\u001b[0m \u001b[0;34m=\u001b[0m \u001b[0mDQN_FC\u001b[0m\u001b[0;34m(\u001b[0m\u001b[0msize\u001b[0m\u001b[0;34m,\u001b[0m \u001b[0mlr\u001b[0m\u001b[0;34m=\u001b[0m\u001b[0;36m.1\u001b[0m\u001b[0;34m,\u001b[0m \u001b[0mepsilon\u001b[0m \u001b[0;34m=\u001b[0m \u001b[0;36m0.1\u001b[0m\u001b[0;34m,\u001b[0m \u001b[0mmemory_size\u001b[0m\u001b[0;34m=\u001b[0m\u001b[0;36m2000\u001b[0m\u001b[0;34m,\u001b[0m \u001b[0mbatch_size\u001b[0m \u001b[0;34m=\u001b[0m \u001b[0;36m64\u001b[0m\u001b[0;34m)\u001b[0m\u001b[0;34m\u001b[0m\u001b[0;34m\u001b[0m\u001b[0m\n\u001b[1;32m      3\u001b[0m \u001b[0mtrain\u001b[0m\u001b[0;34m(\u001b[0m\u001b[0magent\u001b[0m\u001b[0;34m,\u001b[0m \u001b[0menv\u001b[0m\u001b[0;34m,\u001b[0m \u001b[0mepochs_train\u001b[0m\u001b[0;34m,\u001b[0m \u001b[0mprefix\u001b[0m\u001b[0;34m=\u001b[0m\u001b[0;34m'fc_train'\u001b[0m\u001b[0;34m)\u001b[0m\u001b[0;34m\u001b[0m\u001b[0;34m\u001b[0m\u001b[0m\n\u001b[0;32m----> 4\u001b[0;31m \u001b[0mHTML\u001b[0m\u001b[0;34m(\u001b[0m\u001b[0mdisplay_videos\u001b[0m\u001b[0;34m(\u001b[0m\u001b[0;34m'fc_train10.mp4'\u001b[0m\u001b[0;34m)\u001b[0m\u001b[0;34m)\u001b[0m\u001b[0;34m\u001b[0m\u001b[0;34m\u001b[0m\u001b[0m\n\u001b[0m",
            "\u001b[0;32m<ipython-input-49-15ad2820b838>\u001b[0m in \u001b[0;36mdisplay_videos\u001b[0;34m(name)\u001b[0m\n\u001b[1;32m      7\u001b[0m \u001b[0;31m# display videos\u001b[0m\u001b[0;34m\u001b[0m\u001b[0;34m\u001b[0m\u001b[0;34m\u001b[0m\u001b[0m\n\u001b[1;32m      8\u001b[0m \u001b[0;32mdef\u001b[0m \u001b[0mdisplay_videos\u001b[0m\u001b[0;34m(\u001b[0m\u001b[0mname\u001b[0m\u001b[0;34m)\u001b[0m\u001b[0;34m:\u001b[0m\u001b[0;34m\u001b[0m\u001b[0;34m\u001b[0m\u001b[0m\n\u001b[0;32m----> 9\u001b[0;31m     \u001b[0mvideo\u001b[0m \u001b[0;34m=\u001b[0m \u001b[0mio\u001b[0m\u001b[0;34m.\u001b[0m\u001b[0mopen\u001b[0m\u001b[0;34m(\u001b[0m\u001b[0mname\u001b[0m\u001b[0;34m,\u001b[0m \u001b[0;34m'r+b'\u001b[0m\u001b[0;34m)\u001b[0m\u001b[0;34m.\u001b[0m\u001b[0mread\u001b[0m\u001b[0;34m(\u001b[0m\u001b[0;34m)\u001b[0m\u001b[0;34m\u001b[0m\u001b[0;34m\u001b[0m\u001b[0m\n\u001b[0m\u001b[1;32m     10\u001b[0m     \u001b[0mencoded\u001b[0m \u001b[0;34m=\u001b[0m \u001b[0mbase64\u001b[0m\u001b[0;34m.\u001b[0m\u001b[0mb64encode\u001b[0m\u001b[0;34m(\u001b[0m\u001b[0mvideo\u001b[0m\u001b[0;34m)\u001b[0m\u001b[0;34m\u001b[0m\u001b[0;34m\u001b[0m\u001b[0m\n\u001b[1;32m     11\u001b[0m     return '''<video alt=\"test\" controls>\n",
            "\u001b[0;31mFileNotFoundError\u001b[0m: [Errno 2] No such file or directory: 'fc_train10.mp4'"
          ]
        }
      ]
    },
    {
      "cell_type": "markdown",
      "metadata": {
        "id": "QkYftS0cDgGh",
        "colab_type": "text"
      },
      "source": [
        "***\n",
        "***\n",
        "__Question 8__ Implement the DQN training algorithm using a CNN (for example, 2 convolutional layers and one final fully connected layer)."
      ]
    },
    {
      "cell_type": "code",
      "metadata": {
        "id": "_E9MYUH5DgGj",
        "colab_type": "code",
        "colab": {}
      },
      "source": [
        "class DQN_CNN(DQN):\n",
        "    def __init__(self, *args,lr=0.1,**kwargs):\n",
        "        super(DQN_CNN, self).__init__(*args,**kwargs)\n",
        "        \n",
        "        model = Sequential()\n",
        "        model.add(Conv2D(filters=30,kernel_size=3,input_shape=(5,5,self.n_state)))\n",
        "        model.add(Activation('relu'))\n",
        "        model.add(Conv2D(filters=20,kernel_size=3))\n",
        "        model.add(Activation('relu'))\n",
        "        model.add(Flatten())\n",
        "        model.add(Dense(4))\n",
        "        \n",
        "        model.compile(sgd(lr=lr, decay=1e-4, momentum=0.0), \"mse\")\n",
        "        self.model = model"
      ],
      "execution_count": 0,
      "outputs": []
    },
    {
      "cell_type": "code",
      "metadata": {
        "id": "A1drgplEDgGr",
        "colab_type": "code",
        "colab": {
          "base_uri": "https://localhost:8080/",
          "height": 486
        },
        "outputId": "f3250fc1-58d2-4d47-95ae-30c94af15b95"
      },
      "source": [
        "env = Environment(grid_size=size, max_time=T, temperature=0.3)\n",
        "agent = DQN_CNN(size, lr=.1, epsilon = 0.1, memory_size=2000, batch_size = 32)\n",
        "train(agent,env,epochs_train,prefix='cnn_train')\n",
        "HTML(display_videos('cnn_train10.mp4'))"
      ],
      "execution_count": 58,
      "outputs": [
        {
          "output_type": "stream",
          "text": [
            "Epoch 000/010 | Loss 0.0038 | Win/lose count 2.0/1.0 (1.0)\n",
            "Epoch 001/010 | Loss 0.0141 | Win/lose count 5.0/6.0 (-1.0)\n",
            "Epoch 002/010 | Loss 0.0007 | Win/lose count 1.5/5.0 (-3.5)\n",
            "Epoch 003/010 | Loss 0.0069 | Win/lose count 0.5/5.0 (-4.5)\n",
            "Epoch 004/010 | Loss 0.0110 | Win/lose count 2.5/4.0 (-1.5)\n",
            "Epoch 005/010 | Loss 0.0076 | Win/lose count 3.0/2.0 (1.0)\n",
            "Epoch 006/010 | Loss 0.0019 | Win/lose count 3.5/2.0 (1.5)\n",
            "Epoch 007/010 | Loss 0.0062 | Win/lose count 1.5/5.0 (-3.5)\n",
            "Epoch 008/010 | Loss 0.0030 | Win/lose count 2.5/5.0 (-2.5)\n",
            "Epoch 009/010 | Loss 0.0025 | Win/lose count 3.5/2.0 (1.5)\n"
          ],
          "name": "stdout"
        },
        {
          "output_type": "error",
          "ename": "FileNotFoundError",
          "evalue": "ignored",
          "traceback": [
            "\u001b[0;31m---------------------------------------------------------------------------\u001b[0m",
            "\u001b[0;31mFileNotFoundError\u001b[0m                         Traceback (most recent call last)",
            "\u001b[0;32m<ipython-input-58-0f9cf5542594>\u001b[0m in \u001b[0;36m<module>\u001b[0;34m()\u001b[0m\n\u001b[1;32m      2\u001b[0m \u001b[0magent\u001b[0m \u001b[0;34m=\u001b[0m \u001b[0mDQN_CNN\u001b[0m\u001b[0;34m(\u001b[0m\u001b[0msize\u001b[0m\u001b[0;34m,\u001b[0m \u001b[0mlr\u001b[0m\u001b[0;34m=\u001b[0m\u001b[0;36m.1\u001b[0m\u001b[0;34m,\u001b[0m \u001b[0mepsilon\u001b[0m \u001b[0;34m=\u001b[0m \u001b[0;36m0.1\u001b[0m\u001b[0;34m,\u001b[0m \u001b[0mmemory_size\u001b[0m\u001b[0;34m=\u001b[0m\u001b[0;36m2000\u001b[0m\u001b[0;34m,\u001b[0m \u001b[0mbatch_size\u001b[0m \u001b[0;34m=\u001b[0m \u001b[0;36m32\u001b[0m\u001b[0;34m)\u001b[0m\u001b[0;34m\u001b[0m\u001b[0;34m\u001b[0m\u001b[0m\n\u001b[1;32m      3\u001b[0m \u001b[0mtrain\u001b[0m\u001b[0;34m(\u001b[0m\u001b[0magent\u001b[0m\u001b[0;34m,\u001b[0m\u001b[0menv\u001b[0m\u001b[0;34m,\u001b[0m\u001b[0mepochs_train\u001b[0m\u001b[0;34m,\u001b[0m\u001b[0mprefix\u001b[0m\u001b[0;34m=\u001b[0m\u001b[0;34m'cnn_train'\u001b[0m\u001b[0;34m)\u001b[0m\u001b[0;34m\u001b[0m\u001b[0;34m\u001b[0m\u001b[0m\n\u001b[0;32m----> 4\u001b[0;31m \u001b[0mHTML\u001b[0m\u001b[0;34m(\u001b[0m\u001b[0mdisplay_videos\u001b[0m\u001b[0;34m(\u001b[0m\u001b[0;34m'cnn_train10.mp4'\u001b[0m\u001b[0;34m)\u001b[0m\u001b[0;34m)\u001b[0m\u001b[0;34m\u001b[0m\u001b[0;34m\u001b[0m\u001b[0m\n\u001b[0m",
            "\u001b[0;32m<ipython-input-49-15ad2820b838>\u001b[0m in \u001b[0;36mdisplay_videos\u001b[0;34m(name)\u001b[0m\n\u001b[1;32m      7\u001b[0m \u001b[0;31m# display videos\u001b[0m\u001b[0;34m\u001b[0m\u001b[0;34m\u001b[0m\u001b[0;34m\u001b[0m\u001b[0m\n\u001b[1;32m      8\u001b[0m \u001b[0;32mdef\u001b[0m \u001b[0mdisplay_videos\u001b[0m\u001b[0;34m(\u001b[0m\u001b[0mname\u001b[0m\u001b[0;34m)\u001b[0m\u001b[0;34m:\u001b[0m\u001b[0;34m\u001b[0m\u001b[0;34m\u001b[0m\u001b[0m\n\u001b[0;32m----> 9\u001b[0;31m     \u001b[0mvideo\u001b[0m \u001b[0;34m=\u001b[0m \u001b[0mio\u001b[0m\u001b[0;34m.\u001b[0m\u001b[0mopen\u001b[0m\u001b[0;34m(\u001b[0m\u001b[0mname\u001b[0m\u001b[0;34m,\u001b[0m \u001b[0;34m'r+b'\u001b[0m\u001b[0;34m)\u001b[0m\u001b[0;34m.\u001b[0m\u001b[0mread\u001b[0m\u001b[0;34m(\u001b[0m\u001b[0;34m)\u001b[0m\u001b[0;34m\u001b[0m\u001b[0;34m\u001b[0m\u001b[0m\n\u001b[0m\u001b[1;32m     10\u001b[0m     \u001b[0mencoded\u001b[0m \u001b[0;34m=\u001b[0m \u001b[0mbase64\u001b[0m\u001b[0;34m.\u001b[0m\u001b[0mb64encode\u001b[0m\u001b[0;34m(\u001b[0m\u001b[0mvideo\u001b[0m\u001b[0;34m)\u001b[0m\u001b[0;34m\u001b[0m\u001b[0;34m\u001b[0m\u001b[0m\n\u001b[1;32m     11\u001b[0m     return '''<video alt=\"test\" controls>\n",
            "\u001b[0;31mFileNotFoundError\u001b[0m: [Errno 2] No such file or directory: 'cnn_train10.mp4'"
          ]
        }
      ]
    },
    {
      "cell_type": "markdown",
      "metadata": {
        "id": "tx5XxJJhDgGz",
        "colab_type": "text"
      },
      "source": [
        "***\n",
        "***\n",
        "__Question 9__ Test both algorithms and compare their performances. Which issue(s) do you observe? Observe also different behaviors by changing the temperature."
      ]
    },
    {
      "cell_type": "code",
      "metadata": {
        "id": "RgpXgSx-DgG1",
        "colab_type": "code",
        "colab": {
          "base_uri": "https://localhost:8080/",
          "height": 425
        },
        "outputId": "67c6fb44-4dc6-4ce9-86b2-d2ce2e4399e1"
      },
      "source": [
        "env = Environment(grid_size=size, max_time=T,temperature=0.3)\n",
        "agent_cnn = DQN_CNN(size, lr=.1, epsilon = 0.1, memory_size=2000, batch_size = 32)\n",
        "agent_cnn.load(name_weights='cnn_trainmodel.h5',name_model='cnn_trainmodel.json')\n",
        "\n",
        "agent_fc = DQN_FC(size, lr=.1, epsilon = 0.1, memory_size=2000, batch_size = 32)\n",
        "agent_cnn.load(name_weights='fc_trainmodel.h5',name_model='fc_trainmodel.json')\n",
        "print('Test of the CNN')\n",
        "test(agent_cnn,env,epochs_test,prefix='cnn_test')\n",
        "print('Test of the FC')\n",
        "test(agent_fc,env,epochs_test,prefix='fc_test')"
      ],
      "execution_count": 59,
      "outputs": [
        {
          "output_type": "stream",
          "text": [
            "Test of the CNN\n",
            "Win/lose count 6.5/4.0. Average score (2.5)\n",
            "Win/lose count 5.0/1.0. Average score (3.25)\n",
            "Win/lose count 3.0/1.0. Average score (2.8333333333333335)\n",
            "Win/lose count 6.0/4.0. Average score (2.625)\n",
            "Win/lose count 4.5/5.0. Average score (2.0)\n",
            "Win/lose count 5.0/4.0. Average score (1.8333333333333333)\n",
            "Win/lose count 3.0/2.0. Average score (1.7142857142857142)\n",
            "Win/lose count 5.0/3.0. Average score (1.75)\n",
            "Win/lose count 1.5/3.0. Average score (1.3888888888888888)\n",
            "Win/lose count 5.0/3.0. Average score (1.45)\n",
            "Final score: 1.45\n",
            "Test of the FC\n",
            "Win/lose count 5.0/4.0. Average score (1.0)\n",
            "Win/lose count 6.0/8.0. Average score (-0.5)\n",
            "Win/lose count 7.5/5.0. Average score (0.5)\n",
            "Win/lose count 6.5/9.0. Average score (-0.25)\n",
            "Win/lose count 7.5/6.0. Average score (0.1)\n",
            "Win/lose count 6.0/10.0. Average score (-0.5833333333333334)\n",
            "Win/lose count 4.5/11.0. Average score (-1.4285714285714286)\n",
            "Win/lose count 6.5/7.0. Average score (-1.3125)\n",
            "Win/lose count 6.0/11.0. Average score (-1.7222222222222223)\n",
            "Win/lose count 4.5/12.0. Average score (-2.3)\n",
            "Final score: -2.3\n"
          ],
          "name": "stdout"
        }
      ]
    },
    {
      "cell_type": "code",
      "metadata": {
        "id": "bhwLCa7ZDgHI",
        "colab_type": "code",
        "colab": {
          "base_uri": "https://localhost:8080/",
          "height": 282
        },
        "outputId": "1a877c19-4883-4510-bc64-26c4a5a24b9b"
      },
      "source": [
        "HTML(display_videos('cnn_test10.mp4'))"
      ],
      "execution_count": 60,
      "outputs": [
        {
          "output_type": "error",
          "ename": "FileNotFoundError",
          "evalue": "ignored",
          "traceback": [
            "\u001b[0;31m---------------------------------------------------------------------------\u001b[0m",
            "\u001b[0;31mFileNotFoundError\u001b[0m                         Traceback (most recent call last)",
            "\u001b[0;32m<ipython-input-60-6258079ce82e>\u001b[0m in \u001b[0;36m<module>\u001b[0;34m()\u001b[0m\n\u001b[0;32m----> 1\u001b[0;31m \u001b[0mHTML\u001b[0m\u001b[0;34m(\u001b[0m\u001b[0mdisplay_videos\u001b[0m\u001b[0;34m(\u001b[0m\u001b[0;34m'cnn_test10.mp4'\u001b[0m\u001b[0;34m)\u001b[0m\u001b[0;34m)\u001b[0m\u001b[0;34m\u001b[0m\u001b[0;34m\u001b[0m\u001b[0m\n\u001b[0m",
            "\u001b[0;32m<ipython-input-49-15ad2820b838>\u001b[0m in \u001b[0;36mdisplay_videos\u001b[0;34m(name)\u001b[0m\n\u001b[1;32m      7\u001b[0m \u001b[0;31m# display videos\u001b[0m\u001b[0;34m\u001b[0m\u001b[0;34m\u001b[0m\u001b[0;34m\u001b[0m\u001b[0m\n\u001b[1;32m      8\u001b[0m \u001b[0;32mdef\u001b[0m \u001b[0mdisplay_videos\u001b[0m\u001b[0;34m(\u001b[0m\u001b[0mname\u001b[0m\u001b[0;34m)\u001b[0m\u001b[0;34m:\u001b[0m\u001b[0;34m\u001b[0m\u001b[0;34m\u001b[0m\u001b[0m\n\u001b[0;32m----> 9\u001b[0;31m     \u001b[0mvideo\u001b[0m \u001b[0;34m=\u001b[0m \u001b[0mio\u001b[0m\u001b[0;34m.\u001b[0m\u001b[0mopen\u001b[0m\u001b[0;34m(\u001b[0m\u001b[0mname\u001b[0m\u001b[0;34m,\u001b[0m \u001b[0;34m'r+b'\u001b[0m\u001b[0;34m)\u001b[0m\u001b[0;34m.\u001b[0m\u001b[0mread\u001b[0m\u001b[0;34m(\u001b[0m\u001b[0;34m)\u001b[0m\u001b[0;34m\u001b[0m\u001b[0;34m\u001b[0m\u001b[0m\n\u001b[0m\u001b[1;32m     10\u001b[0m     \u001b[0mencoded\u001b[0m \u001b[0;34m=\u001b[0m \u001b[0mbase64\u001b[0m\u001b[0;34m.\u001b[0m\u001b[0mb64encode\u001b[0m\u001b[0;34m(\u001b[0m\u001b[0mvideo\u001b[0m\u001b[0;34m)\u001b[0m\u001b[0;34m\u001b[0m\u001b[0;34m\u001b[0m\u001b[0m\n\u001b[1;32m     11\u001b[0m     return '''<video alt=\"test\" controls>\n",
            "\u001b[0;31mFileNotFoundError\u001b[0m: [Errno 2] No such file or directory: 'cnn_test10.mp4'"
          ]
        }
      ]
    },
    {
      "cell_type": "code",
      "metadata": {
        "id": "alMPOoBgDgHP",
        "colab_type": "code",
        "colab": {
          "base_uri": "https://localhost:8080/",
          "height": 282
        },
        "outputId": "b417da0b-4b9e-4fb2-bf12-ad6942b59ac6"
      },
      "source": [
        "HTML(display_videos('fc_test10.mp4'))"
      ],
      "execution_count": 61,
      "outputs": [
        {
          "output_type": "error",
          "ename": "FileNotFoundError",
          "evalue": "ignored",
          "traceback": [
            "\u001b[0;31m---------------------------------------------------------------------------\u001b[0m",
            "\u001b[0;31mFileNotFoundError\u001b[0m                         Traceback (most recent call last)",
            "\u001b[0;32m<ipython-input-61-3b7449c17544>\u001b[0m in \u001b[0;36m<module>\u001b[0;34m()\u001b[0m\n\u001b[0;32m----> 1\u001b[0;31m \u001b[0mHTML\u001b[0m\u001b[0;34m(\u001b[0m\u001b[0mdisplay_videos\u001b[0m\u001b[0;34m(\u001b[0m\u001b[0;34m'fc_test10.mp4'\u001b[0m\u001b[0;34m)\u001b[0m\u001b[0;34m)\u001b[0m\u001b[0;34m\u001b[0m\u001b[0;34m\u001b[0m\u001b[0m\n\u001b[0m",
            "\u001b[0;32m<ipython-input-49-15ad2820b838>\u001b[0m in \u001b[0;36mdisplay_videos\u001b[0;34m(name)\u001b[0m\n\u001b[1;32m      7\u001b[0m \u001b[0;31m# display videos\u001b[0m\u001b[0;34m\u001b[0m\u001b[0;34m\u001b[0m\u001b[0;34m\u001b[0m\u001b[0m\n\u001b[1;32m      8\u001b[0m \u001b[0;32mdef\u001b[0m \u001b[0mdisplay_videos\u001b[0m\u001b[0;34m(\u001b[0m\u001b[0mname\u001b[0m\u001b[0;34m)\u001b[0m\u001b[0;34m:\u001b[0m\u001b[0;34m\u001b[0m\u001b[0;34m\u001b[0m\u001b[0m\n\u001b[0;32m----> 9\u001b[0;31m     \u001b[0mvideo\u001b[0m \u001b[0;34m=\u001b[0m \u001b[0mio\u001b[0m\u001b[0;34m.\u001b[0m\u001b[0mopen\u001b[0m\u001b[0;34m(\u001b[0m\u001b[0mname\u001b[0m\u001b[0;34m,\u001b[0m \u001b[0;34m'r+b'\u001b[0m\u001b[0;34m)\u001b[0m\u001b[0;34m.\u001b[0m\u001b[0mread\u001b[0m\u001b[0;34m(\u001b[0m\u001b[0;34m)\u001b[0m\u001b[0;34m\u001b[0m\u001b[0;34m\u001b[0m\u001b[0m\n\u001b[0m\u001b[1;32m     10\u001b[0m     \u001b[0mencoded\u001b[0m \u001b[0;34m=\u001b[0m \u001b[0mbase64\u001b[0m\u001b[0;34m.\u001b[0m\u001b[0mb64encode\u001b[0m\u001b[0;34m(\u001b[0m\u001b[0mvideo\u001b[0m\u001b[0;34m)\u001b[0m\u001b[0;34m\u001b[0m\u001b[0;34m\u001b[0m\u001b[0m\n\u001b[1;32m     11\u001b[0m     return '''<video alt=\"test\" controls>\n",
            "\u001b[0;31mFileNotFoundError\u001b[0m: [Errno 2] No such file or directory: 'fc_test10.mp4'"
          ]
        }
      ]
    },
    {
      "cell_type": "markdown",
      "metadata": {
        "id": "JGQnyRFVDgHV",
        "colab_type": "text"
      },
      "source": [
        "We have an exploration issue because the agent doesn't fully explore the map and stays close from it's starting point, therefore it misses many bonuses.\n",
        "\n",
        "This is especially true when the temperature is low: in that case when the agent can't see the bonuses around itself (more than two cells away) it will stick to its starting point without getting the rewards it could collect. "
      ]
    },
    {
      "cell_type": "markdown",
      "metadata": {
        "id": "spUK6ZhhDgHc",
        "colab_type": "text"
      },
      "source": [
        "***\n",
        "\n",
        "The algorithm tends to not explore the map which can be an issue. We propose two ideas in order to encourage exploration:\n",
        "1. Incorporating a decreasing $\\epsilon$-greedy exploration. You can use the method ```set_epsilon```\n",
        "2. Append via the environment a new state that describes if a cell has been visited or not\n",
        "\n",
        "***\n",
        "__Question 10__ Design a new ```train_explore``` function and environment class ```EnvironmentExploring``` to tackle the issue of exploration.\n",
        "\n"
      ]
    },
    {
      "cell_type": "code",
      "metadata": {
        "id": "wNsI5eIoDgHe",
        "colab_type": "code",
        "colab": {}
      },
      "source": [
        ""
      ],
      "execution_count": 0,
      "outputs": []
    },
    {
      "cell_type": "code",
      "metadata": {
        "id": "5qTFu-5KDgHo",
        "colab_type": "code",
        "colab": {
          "base_uri": "https://localhost:8080/",
          "height": 486
        },
        "outputId": "f769c566-bda0-451a-df00-fd1f13d38e6d"
      },
      "source": [
        "# Training\n",
        "env = EnvironmentExploring(grid_size=size, max_time=T, temperature=0.3)\n",
        "agent = DQN_CNN(size, lr=.1, epsilon = 0.1, memory_size=2000, batch_size = 32,n_state=3)\n",
        "train_explore(agent, env, epochs_train, prefix='cnn_train_explore')\n",
        "HTML(display_videos('cnn_train_explore10.mp4'))"
      ],
      "execution_count": 75,
      "outputs": [
        {
          "output_type": "stream",
          "text": [
            "Epoch 000/010 | Loss 0.0039 | Win/lose count 5.0/19.000000000000004 (-14.000000000000004)\n",
            "Epoch 001/010 | Loss 0.0056 | Win/lose count 5.0/22.900000000000073 (-17.900000000000073)\n",
            "Epoch 002/010 | Loss 0.0070 | Win/lose count 2.5/21.500000000000043 (-19.000000000000043)\n",
            "Epoch 003/010 | Loss 0.0037 | Win/lose count 8.0/22.400000000000063 (-14.400000000000063)\n",
            "Epoch 004/010 | Loss 0.0135 | Win/lose count 14.5/18.99999999999999 (-4.499999999999989)\n",
            "Epoch 005/010 | Loss 0.0034 | Win/lose count 7.0/17.29999999999998 (-10.29999999999998)\n",
            "Epoch 006/010 | Loss 0.0046 | Win/lose count 3.0/18.29999999999999 (-15.29999999999999)\n",
            "Epoch 007/010 | Loss 0.0047 | Win/lose count 6.5/17.59999999999998 (-11.09999999999998)\n",
            "Epoch 008/010 | Loss 0.0076 | Win/lose count 8.0/16.29999999999996 (-8.299999999999962)\n",
            "Epoch 009/010 | Loss 0.0077 | Win/lose count 4.5/20.100000000000005 (-15.600000000000005)\n"
          ],
          "name": "stdout"
        },
        {
          "output_type": "error",
          "ename": "FileNotFoundError",
          "evalue": "ignored",
          "traceback": [
            "\u001b[0;31m---------------------------------------------------------------------------\u001b[0m",
            "\u001b[0;31mFileNotFoundError\u001b[0m                         Traceback (most recent call last)",
            "\u001b[0;32m<ipython-input-75-7aa24eede04b>\u001b[0m in \u001b[0;36m<module>\u001b[0;34m()\u001b[0m\n\u001b[1;32m      2\u001b[0m \u001b[0magent\u001b[0m \u001b[0;34m=\u001b[0m \u001b[0mDQN_CNN\u001b[0m\u001b[0;34m(\u001b[0m\u001b[0msize\u001b[0m\u001b[0;34m,\u001b[0m \u001b[0mlr\u001b[0m\u001b[0;34m=\u001b[0m\u001b[0;36m.1\u001b[0m\u001b[0;34m,\u001b[0m \u001b[0mepsilon\u001b[0m \u001b[0;34m=\u001b[0m \u001b[0;36m0.1\u001b[0m\u001b[0;34m,\u001b[0m \u001b[0mmemory_size\u001b[0m\u001b[0;34m=\u001b[0m\u001b[0;36m2000\u001b[0m\u001b[0;34m,\u001b[0m \u001b[0mbatch_size\u001b[0m \u001b[0;34m=\u001b[0m \u001b[0;36m32\u001b[0m\u001b[0;34m,\u001b[0m\u001b[0mn_state\u001b[0m\u001b[0;34m=\u001b[0m\u001b[0;36m3\u001b[0m\u001b[0;34m)\u001b[0m\u001b[0;34m\u001b[0m\u001b[0;34m\u001b[0m\u001b[0m\n\u001b[1;32m      3\u001b[0m \u001b[0mtrain_explore\u001b[0m\u001b[0;34m(\u001b[0m\u001b[0magent\u001b[0m\u001b[0;34m,\u001b[0m \u001b[0menv\u001b[0m\u001b[0;34m,\u001b[0m \u001b[0mepochs_train\u001b[0m\u001b[0;34m,\u001b[0m \u001b[0mprefix\u001b[0m\u001b[0;34m=\u001b[0m\u001b[0;34m'cnn_train_explore'\u001b[0m\u001b[0;34m)\u001b[0m\u001b[0;34m\u001b[0m\u001b[0;34m\u001b[0m\u001b[0m\n\u001b[0;32m----> 4\u001b[0;31m \u001b[0mHTML\u001b[0m\u001b[0;34m(\u001b[0m\u001b[0mdisplay_videos\u001b[0m\u001b[0;34m(\u001b[0m\u001b[0;34m'cnn_train_explore10.mp4'\u001b[0m\u001b[0;34m)\u001b[0m\u001b[0;34m)\u001b[0m\u001b[0;34m\u001b[0m\u001b[0;34m\u001b[0m\u001b[0m\n\u001b[0m",
            "\u001b[0;32m<ipython-input-49-15ad2820b838>\u001b[0m in \u001b[0;36mdisplay_videos\u001b[0;34m(name)\u001b[0m\n\u001b[1;32m      7\u001b[0m \u001b[0;31m# display videos\u001b[0m\u001b[0;34m\u001b[0m\u001b[0;34m\u001b[0m\u001b[0;34m\u001b[0m\u001b[0m\n\u001b[1;32m      8\u001b[0m \u001b[0;32mdef\u001b[0m \u001b[0mdisplay_videos\u001b[0m\u001b[0;34m(\u001b[0m\u001b[0mname\u001b[0m\u001b[0;34m)\u001b[0m\u001b[0;34m:\u001b[0m\u001b[0;34m\u001b[0m\u001b[0;34m\u001b[0m\u001b[0m\n\u001b[0;32m----> 9\u001b[0;31m     \u001b[0mvideo\u001b[0m \u001b[0;34m=\u001b[0m \u001b[0mio\u001b[0m\u001b[0;34m.\u001b[0m\u001b[0mopen\u001b[0m\u001b[0;34m(\u001b[0m\u001b[0mname\u001b[0m\u001b[0;34m,\u001b[0m \u001b[0;34m'r+b'\u001b[0m\u001b[0;34m)\u001b[0m\u001b[0;34m.\u001b[0m\u001b[0mread\u001b[0m\u001b[0;34m(\u001b[0m\u001b[0;34m)\u001b[0m\u001b[0;34m\u001b[0m\u001b[0;34m\u001b[0m\u001b[0m\n\u001b[0m\u001b[1;32m     10\u001b[0m     \u001b[0mencoded\u001b[0m \u001b[0;34m=\u001b[0m \u001b[0mbase64\u001b[0m\u001b[0;34m.\u001b[0m\u001b[0mb64encode\u001b[0m\u001b[0;34m(\u001b[0m\u001b[0mvideo\u001b[0m\u001b[0;34m)\u001b[0m\u001b[0;34m\u001b[0m\u001b[0;34m\u001b[0m\u001b[0m\n\u001b[1;32m     11\u001b[0m     return '''<video alt=\"test\" controls>\n",
            "\u001b[0;31mFileNotFoundError\u001b[0m: [Errno 2] No such file or directory: 'cnn_train_explore10.mp4'"
          ]
        }
      ]
    },
    {
      "cell_type": "code",
      "metadata": {
        "id": "xphWQXpLDgHy",
        "colab_type": "code",
        "colab": {}
      },
      "source": [
        "# Evaluation\n",
        "test(agent,env,epochs_test,prefix='cnn_test_explore')\n",
        "HTML(display_videos('cnn_test_explore10.mp4'))"
      ],
      "execution_count": 0,
      "outputs": []
    },
    {
      "cell_type": "markdown",
      "metadata": {
        "id": "FoyZYvhzDgIC",
        "colab_type": "text"
      },
      "source": [
        "***\n",
        "***\n",
        "__BONUS question__ Use the expert DQN from the previous question to generate some winning games. Train a model that mimicks its behavior. Compare the performances."
      ]
    },
    {
      "cell_type": "markdown",
      "metadata": {
        "id": "YSUhJh8qDgIF",
        "colab_type": "text"
      },
      "source": [
        ""
      ]
    },
    {
      "cell_type": "markdown",
      "metadata": {
        "id": "m95bEH8oDgIG",
        "colab_type": "text"
      },
      "source": [
        "***"
      ]
    }
  ]
}